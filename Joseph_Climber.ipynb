{
  "nbformat": 4,
  "nbformat_minor": 0,
  "metadata": {
    "colab": {
      "provenance": [],
      "toc_visible": true,
      "authorship_tag": "ABX9TyP2VDT6DnVXHCcCXZMyoK+L",
      "include_colab_link": true
    },
    "kernelspec": {
      "name": "python3",
      "display_name": "Python 3"
    },
    "language_info": {
      "name": "python"
    }
  },
  "cells": [
    {
      "cell_type": "markdown",
      "metadata": {
        "id": "view-in-github",
        "colab_type": "text"
      },
      "source": [
        "<a href=\"https://colab.research.google.com/github/JulioAntunes00/projetos-python/blob/main/Joseph_Climber.ipynb\" target=\"_parent\"><img src=\"https://colab.research.google.com/assets/colab-badge.svg\" alt=\"Open In Colab\"/></a>"
      ]
    },
    {
      "cell_type": "code",
      "execution_count": null,
      "metadata": {
        "colab": {
          "base_uri": "https://localhost:8080/"
        },
        "id": "kfxEsuWo_v-b",
        "outputId": "3aa2fd31-bf01-437a-91aa-a1014cfbd9b1"
      },
      "outputs": [
        {
          "output_type": "stream",
          "name": "stdout",
          "text": [
            "..::Bem vindo a auto escola Joseph Climber::..\n",
            "\n"
          ]
        }
      ],
      "source": [
        "print(\"..::Bem vindo a auto escola Joseph Climber::..\\n\")\n",
        "\n",
        "def menu():\n",
        "  print(\"Escolha o menu para interagir:\\n\"\"\\n1. Escolher cidade \\n2. Escolher tipo de carteira \\n3. Agendar aula teórica\")\n",
        "\n",
        "#menu = print(\"Escolha o menu para interagir:\\n\"\"\\n1. Escolher cidade \\n2. Escolher tipo de carteira \\n3. Agendar aula teórica\")\n",
        "#print(menu)\n",
        "\n",
        "\n",
        "\n",
        "while True:\n",
        "  try:\n",
        "    menu = int(input(\"Digite a opção desejada\"))\n",
        "\n",
        "    if menu == 1:\n",
        "      print(\"1. Araçatuba\\n2. Birigui\")\n",
        "      break\n",
        "\n",
        "    elif menu == 2:\n",
        "      print(\"Ok2\")\n",
        "\n",
        "    else:\n",
        "      print(\"Opção inválida\")\n",
        "\n",
        "\n",
        "  except ValueError:\n",
        "    print(\"Entrada inválida. Por favor, digite um números.\")"
      ]
    },
    {
      "cell_type": "code",
      "source": [
        "while True:\n",
        "  senha = int(input(\"Digite a senha:\"))\n",
        "\n",
        "  if senha == 123:\n",
        "    print(\"Senha correta\")\n",
        "    break\n",
        "  elif senha == 321:\n",
        "    print(\"Quase lá\")\n",
        "  else:\n",
        "    print(\"Senha incorreta\")\n"
      ],
      "metadata": {
        "id": "qW8o2CcLEZJJ"
      },
      "execution_count": null,
      "outputs": []
    }
  ]
}