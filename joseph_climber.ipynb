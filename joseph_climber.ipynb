{
  "nbformat": 4,
  "nbformat_minor": 0,
  "metadata": {
    "colab": {
      "provenance": [],
      "authorship_tag": "ABX9TyN0A2Q2O8sKMV0RL9T/+AKT",
      "include_colab_link": true
    },
    "kernelspec": {
      "name": "python3",
      "display_name": "Python 3"
    },
    "language_info": {
      "name": "python"
    }
  },
  "cells": [
    {
      "cell_type": "markdown",
      "metadata": {
        "id": "view-in-github",
        "colab_type": "text"
      },
      "source": [
        "<a href=\"https://colab.research.google.com/github/JulioAntunes00/projetos-python/blob/main/joseph_climber.ipynb\" target=\"_parent\"><img src=\"https://colab.research.google.com/assets/colab-badge.svg\" alt=\"Open In Colab\"/></a>"
      ]
    },
    {
      "cell_type": "code",
      "execution_count": null,
      "metadata": {
        "id": "kfxEsuWo_v-b"
      },
      "outputs": [],
      "source": [
        "\n",
        "class Aluno:\n",
        "  def __init__(self, nome, senha):\n",
        "    self.nome = nome\n",
        "    self.senha = senha\n",
        "    self.tipo_cnh = None\n",
        "    self.cidade = None\n",
        "\n",
        "  def escolher_cnh(self):\n",
        "    print(\"Escolha a CNH:\\n 1. Categoria A\\n 2. Categoria B\\n 3. Categoria A e B\")\n",
        "    self.tipo_cnh = int(input(\"Digite a opção desejada: \"))\n",
        "\n",
        "  def escolher_cidade(self):\n",
        "    print(\"Escolha a cidade de destino:\\n 1. Araçatuba\\n 2. Birigui\\n 3. Buritama\")\n",
        "    self.cidade = int(input(\"Digite a opção desejada: \"))\n",
        "\n",
        "alunos_cadastrados = []\n",
        "\n",
        "while True:\n",
        "  print(\"\\n..:: Auto Escola Joseph Climber ::..\\n\")\n",
        "  login_opcao = input(\"Escolha a opção desejada: \\n1. Login\\n2. Cadastro\\n\\n\")\n",
        "\n",
        "  if login_opcao == \"1\":\n",
        "    print(\"..::TELA DE LOGIN::..\")\n",
        "    nome_digitado = input(\"Digite seu usuário: \")\n",
        "    senha_digitada = input(\"Digite a senha: \")\n",
        "\n",
        "    aluno_encontrado = False\n",
        "\n",
        "    for aluno in alunos_cadastrados:\n",
        "      if aluno.nome == nome_digitado and aluno.senha == senha_digitada:\n",
        "        print(f\"Bem vindo {aluno.nome}!\")\n",
        "        aluno_encontrado = True\n",
        "        break\n",
        "    if not aluno_encontrado:\n",
        "      print(\"Nome ou senhas incorretos!\")\n",
        "\n",
        "  elif login_opcao == \"2\":\n",
        "     print(\"..::TELA DE CADASTRO::..\")\n",
        "     nome_novo = input(\"Digite seu nome: \")\n",
        "     senha_nova = input(\"Escolha uma senha: \")\n",
        "\n",
        "     novo_aluno = Aluno(nome_novo, senha_nova)\n",
        "     alunos_cadastrados.append(novo_aluno)\n",
        "\n",
        "     print(f\"Novo aluno {novo_aluno.nome} cadastrado com sucesso!\")\n",
        "     print(f\"Temos um total de {len(alunos_cadastrados)} alunos cadastrados\")\n",
        "\n",
        "  else:\n",
        "    print(\"Opçãp inválida, tente novamente.1\")\n",
        "\n",
        "\n",
        "\n",
        "\n",
        "\n",
        "\n",
        "\n"
      ]
    },
    {
      "cell_type": "code",
      "source": [],
      "metadata": {
        "id": "qW8o2CcLEZJJ"
      },
      "execution_count": null,
      "outputs": []
    }
  ]
}